{
 "cells": [
  {
   "cell_type": "code",
   "execution_count": 1,
   "metadata": {},
   "outputs": [],
   "source": [
    "src=open(\"src-test.txt\",'r')\n",
    "tgt=open(\"tgt-test.txt\",'r')\n",
    "src1=open(\"src1-test.txt\",'w')\n",
    "tgt1=open(\"tgt1-test.txt\",'w')\n",
    "i=1\n",
    "for line in src:\n",
    "    if i<=28:\n",
    "        src1.write(line)\n",
    "        i+=1\n",
    "src.close()\n",
    "src1.close()\n",
    "i=1\n",
    "for line in tgt:\n",
    "    if i<=28:\n",
    "        tgt1.write(line)\n",
    "        i+=1\n",
    "tgt.close()\n",
    "tgt1.close()"
   ]
  },
  {
   "cell_type": "code",
   "execution_count": null,
   "metadata": {},
   "outputs": [],
   "source": []
  }
 ],
 "metadata": {
  "kernelspec": {
   "display_name": "Python 3",
   "language": "python",
   "name": "python3"
  },
  "language_info": {
   "codemirror_mode": {
    "name": "ipython",
    "version": 3
   },
   "file_extension": ".py",
   "mimetype": "text/x-python",
   "name": "python",
   "nbconvert_exporter": "python",
   "pygments_lexer": "ipython3",
   "version": "3.6.5"
  }
 },
 "nbformat": 4,
 "nbformat_minor": 2
}
