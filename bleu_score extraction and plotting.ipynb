{
 "cells": [
  {
   "cell_type": "code",
   "execution_count": 2,
   "metadata": {},
   "outputs": [
    {
     "name": "stdout",
     "output_type": "stream",
     "text": [
      "['0.00 0.0 0.0 0.0 0.0 0.000 0.088 100 1132', '0.00 0.0 0.0 0.0 0.0 0.000 0.088 100 1132', '0.00 0.3 0.0 0.0 0.0 1.000 8.834 10000 1132', '0.00 0.9 0.0 0.0 0.0 0.368 0.500 566 1132', '0.00 0.1 0.0 0.0 0.0 1.000 8.834 10000 1132', '0.00 0.0 0.0 0.0 0.0 0.000 0.088 100 1132', '0.00 0.1 0.0 0.0 0.0 1.000 8.834 10000 1132', '0.00 0.0 0.0 0.0 0.0 0.000 0.088 100 1132', '0.00 0.0 0.0 0.0 0.0 1.000 8.834 10000 1132', '0.00 0.0 0.0 0.0 0.0 0.000 0.088 100 1132', '0.00 0.3 0.0 0.0 0.0 1.000 8.834 10000 1132', '0.00 10.6 0.0 0.0 0.0 0.002 0.141 160 1132']\n"
     ]
    }
   ],
   "source": [
    "# Bleu_score data cleaning\n",
    "import re\n",
    "import numpy as np\n",
    "import pandas as pd\n",
    "import matplotlib.pyplot as plt\n",
    "import seaborn as sns\n",
    "bleu_score=open(\"bleuoutput.txt\",'r')\n",
    "bs_data=[]\n",
    "for line in bleu_score:\n",
    "    a=re.sub(r',',\"\",line)\n",
    "    b=re.sub(r'BLEU = ',\"\",a)\n",
    "    c=re.sub(r'/',\" \",b)\n",
    "    d=re.sub(r'BP=',\"\",c)\n",
    "    e=re.sub(r'ratio=',\"\",d)\n",
    "    f=re.sub(r'hyp_len=',\"\",e)\n",
    "    g=re.sub(r'ref_len=',\"\",f)\n",
    "    h=re.sub(r'\\)',\"\",g)\n",
    "    i=re.sub(r'\\(',\"\",h)\n",
    "    j=re.sub(r'\\n',\"\",i)\n",
    "    bs_data.append(j)\n",
    "bleu_score.close()\n",
    "print(bs_data)"
   ]
  },
  {
   "cell_type": "code",
   "execution_count": 3,
   "metadata": {},
   "outputs": [
    {
     "data": {
      "text/plain": [
       "[[0.0, 0.0, 0.0, 0.0, 0.0, 0.0, 0.088, 100.0, 1132.0],\n",
       " [0.0, 0.0, 0.0, 0.0, 0.0, 0.0, 0.088, 100.0, 1132.0],\n",
       " [0.0, 0.3, 0.0, 0.0, 0.0, 1.0, 8.834, 10000.0, 1132.0],\n",
       " [0.0, 0.9, 0.0, 0.0, 0.0, 0.368, 0.5, 566.0, 1132.0],\n",
       " [0.0, 0.1, 0.0, 0.0, 0.0, 1.0, 8.834, 10000.0, 1132.0],\n",
       " [0.0, 0.0, 0.0, 0.0, 0.0, 0.0, 0.088, 100.0, 1132.0],\n",
       " [0.0, 0.1, 0.0, 0.0, 0.0, 1.0, 8.834, 10000.0, 1132.0],\n",
       " [0.0, 0.0, 0.0, 0.0, 0.0, 0.0, 0.088, 100.0, 1132.0],\n",
       " [0.0, 0.0, 0.0, 0.0, 0.0, 1.0, 8.834, 10000.0, 1132.0],\n",
       " [0.0, 0.0, 0.0, 0.0, 0.0, 0.0, 0.088, 100.0, 1132.0],\n",
       " [0.0, 0.3, 0.0, 0.0, 0.0, 1.0, 8.834, 10000.0, 1132.0],\n",
       " [0.0, 10.6, 0.0, 0.0, 0.0, 0.002, 0.141, 160.0, 1132.0]]"
      ]
     },
     "execution_count": 3,
     "metadata": {},
     "output_type": "execute_result"
    }
   ],
   "source": [
    "# data in proper dimensions\n",
    "final_data=[]\n",
    "for data in bs_data:\n",
    "    final_data.append(list(map(float,data.split())))\n",
    "final_data"
   ]
  },
  {
   "cell_type": "code",
   "execution_count": 7,
   "metadata": {},
   "outputs": [
    {
     "data": {
      "text/html": [
       "<div>\n",
       "<style scoped>\n",
       "    .dataframe tbody tr th:only-of-type {\n",
       "        vertical-align: middle;\n",
       "    }\n",
       "\n",
       "    .dataframe tbody tr th {\n",
       "        vertical-align: top;\n",
       "    }\n",
       "\n",
       "    .dataframe thead th {\n",
       "        text-align: right;\n",
       "    }\n",
       "</style>\n",
       "<table border=\"1\" class=\"dataframe\">\n",
       "  <thead>\n",
       "    <tr style=\"text-align: right;\">\n",
       "      <th></th>\n",
       "      <th>BLEU</th>\n",
       "      <th>S1</th>\n",
       "      <th>S2</th>\n",
       "      <th>S3</th>\n",
       "      <th>S4</th>\n",
       "      <th>BP</th>\n",
       "      <th>ratio</th>\n",
       "      <th>hyp_len</th>\n",
       "      <th>ref_len</th>\n",
       "    </tr>\n",
       "  </thead>\n",
       "  <tbody>\n",
       "    <tr>\n",
       "      <th>0</th>\n",
       "      <td>0.0</td>\n",
       "      <td>0.0</td>\n",
       "      <td>0.0</td>\n",
       "      <td>0.0</td>\n",
       "      <td>0.0</td>\n",
       "      <td>0.000</td>\n",
       "      <td>0.088</td>\n",
       "      <td>100.0</td>\n",
       "      <td>1132.0</td>\n",
       "    </tr>\n",
       "    <tr>\n",
       "      <th>1</th>\n",
       "      <td>0.0</td>\n",
       "      <td>0.0</td>\n",
       "      <td>0.0</td>\n",
       "      <td>0.0</td>\n",
       "      <td>0.0</td>\n",
       "      <td>0.000</td>\n",
       "      <td>0.088</td>\n",
       "      <td>100.0</td>\n",
       "      <td>1132.0</td>\n",
       "    </tr>\n",
       "    <tr>\n",
       "      <th>2</th>\n",
       "      <td>0.0</td>\n",
       "      <td>0.3</td>\n",
       "      <td>0.0</td>\n",
       "      <td>0.0</td>\n",
       "      <td>0.0</td>\n",
       "      <td>1.000</td>\n",
       "      <td>8.834</td>\n",
       "      <td>10000.0</td>\n",
       "      <td>1132.0</td>\n",
       "    </tr>\n",
       "    <tr>\n",
       "      <th>3</th>\n",
       "      <td>0.0</td>\n",
       "      <td>0.9</td>\n",
       "      <td>0.0</td>\n",
       "      <td>0.0</td>\n",
       "      <td>0.0</td>\n",
       "      <td>0.368</td>\n",
       "      <td>0.500</td>\n",
       "      <td>566.0</td>\n",
       "      <td>1132.0</td>\n",
       "    </tr>\n",
       "    <tr>\n",
       "      <th>4</th>\n",
       "      <td>0.0</td>\n",
       "      <td>0.1</td>\n",
       "      <td>0.0</td>\n",
       "      <td>0.0</td>\n",
       "      <td>0.0</td>\n",
       "      <td>1.000</td>\n",
       "      <td>8.834</td>\n",
       "      <td>10000.0</td>\n",
       "      <td>1132.0</td>\n",
       "    </tr>\n",
       "  </tbody>\n",
       "</table>\n",
       "</div>"
      ],
      "text/plain": [
       "   BLEU   S1   S2   S3   S4     BP  ratio  hyp_len  ref_len\n",
       "0   0.0  0.0  0.0  0.0  0.0  0.000  0.088    100.0   1132.0\n",
       "1   0.0  0.0  0.0  0.0  0.0  0.000  0.088    100.0   1132.0\n",
       "2   0.0  0.3  0.0  0.0  0.0  1.000  8.834  10000.0   1132.0\n",
       "3   0.0  0.9  0.0  0.0  0.0  0.368  0.500    566.0   1132.0\n",
       "4   0.0  0.1  0.0  0.0  0.0  1.000  8.834  10000.0   1132.0"
      ]
     },
     "execution_count": 7,
     "metadata": {},
     "output_type": "execute_result"
    }
   ],
   "source": [
    "# creating csv file\n",
    "df=pd.DataFrame(final_data,columns=[\"BLEU\",\"S1\",\"S2\",\"S3\",\"S4\",\"BP\", \"ratio\", \"hyp_len\", \"ref_len\"])\n",
    "df.head()"
   ]
  },
  {
   "cell_type": "code",
   "execution_count": 25,
   "metadata": {},
   "outputs": [
    {
     "data": {
      "image/png": "[encoded data removed]",
      "text/plain": [
       "<Figure size 432x288 with 1 Axes>"
      ]
     },
     "metadata": {
      "needs_background": "light"
     },
     "output_type": "display_data"
    }
   ],
   "source": [
    "# plotting the data\n",
    "plt.plot(np.arange(1,13),df[\"BLEU\"],label=\"BLEU\")\n",
    "plt.plot(np.arange(1,13),df[\"S1\"],label=\"Uni-gram\")\n",
    "plt.plot(np.arange(1,13),df[\"S2\"],label=\"Bi-gram\")\n",
    "plt.plot(np.arange(1,13),df[\"S3\"],label=\"Tri-gram\")\n",
    "plt.plot(np.arange(1,13),df[\"S4\"],label=\"Quad-Gram\")\n",
    "plt.title(\"Epoch vs Bleu_Score\")\n",
    "plt.xlabel(\"No of Epochs\")\n",
    "plt.ylabel(\"BLEU Score\")\n",
    "plt.legend()\n",
    "plt.savefig(\"Bleu_score.jpeg\")\n",
    "plt.show()\n"
   ]
  },
  {
   "cell_type": "code",
   "execution_count": 24,
   "metadata": {},
   "outputs": [],
   "source": [
    "# saving data in as csv file\n",
    "df.to_csv(\"Bleu_Score.csv\",index=None)"
   ]
  },
  {
   "cell_type": "code",
   "execution_count": null,
   "metadata": {},
   "outputs": [],
   "source": [
    "# saving graph"
   ]
  }
 ],
 "metadata": {
  "kernelspec": {
   "display_name": "Python 3",
   "language": "python",
   "name": "python3"
  },
  "language_info": {
   "codemirror_mode": {
    "name": "ipython",
    "version": 3
   },
   "file_extension": ".py",
   "mimetype": "text/x-python",
   "name": "python",
   "nbconvert_exporter": "python",
   "pygments_lexer": "ipython3",
   "version": "3.6.5"
  }
 },
 "nbformat": 4,
 "nbformat_minor": 2
}
