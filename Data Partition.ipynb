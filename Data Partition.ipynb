{
 "cells": [
  {
   "cell_type": "code",
   "execution_count": 5,
   "metadata": {},
   "outputs": [
    {
     "name": "stdout",
     "output_type": "stream",
     "text": [
      "142567\n"
     ]
    }
   ],
   "source": [
    "content=open(\"tgt.txt\",'r')\n",
    "j=0\n",
    "for line in content:\n",
    "    j+=1\n",
    "print(j)\n",
    "content.close()"
   ]
  },
  {
   "cell_type": "code",
   "execution_count": 6,
   "metadata": {},
   "outputs": [
    {
     "name": "stdout",
     "output_type": "stream",
     "text": [
      "142567\n"
     ]
    }
   ],
   "source": [
    "title=open(\"src.txt\",'r')\n",
    "k=0\n",
    "for line in title:\n",
    "    k+=1\n",
    "print(k)\n",
    "title.close()"
   ]
  },
  {
   "cell_type": "code",
   "execution_count": 7,
   "metadata": {},
   "outputs": [],
   "source": [
    "src=open(\"src.txt\",'r')\n",
    "tgt=open(\"tgt.txt\",'r')\n",
    "src_train=open(\"src-train.txt\",'w')\n",
    "src_val=open(\"src-val.txt\",'w')\n",
    "src_test=open(\"src-test.txt\",'w')\n",
    "tgt_train=open(\"tgt-train.txt\",'w')\n",
    "tgt_val=open(\"tgt-val.txt\",'w')\n",
    "tgt_test=open(\"tgt-test.txt\",'w')\n",
    "count=1\n",
    "for line in src:\n",
    "    if count <= 130000:\n",
    "        src_train.write(line)\n",
    "        count+=1\n",
    "    else:\n",
    "        if count <=140000:\n",
    "            src_val.write(line)\n",
    "            count+=1\n",
    "        else:\n",
    "            src_test.write(line)\n",
    "            count+=1\n",
    "src.close()\n",
    "src_train.close()\n",
    "src_val.close()\n",
    "src_test.close()\n",
    "\n",
    "count=1\n",
    "for line in tgt:\n",
    "    if count <= 130000:\n",
    "        tgt_train.write(line)\n",
    "        count+=1\n",
    "    else:\n",
    "        if count <=140000:\n",
    "            tgt_val.write(line)\n",
    "            count+=1\n",
    "        else:\n",
    "            tgt_test.write(line)\n",
    "            count+=1\n",
    "tgt.close()\n",
    "tgt_train.close()\n",
    "tgt_val.close()\n",
    "tgt_test.close()"
   ]
  },
  {
   "cell_type": "code",
   "execution_count": 9,
   "metadata": {},
   "outputs": [
    {
     "name": "stdout",
     "output_type": "stream",
     "text": [
      "Source Train Data\n",
      "130000\n",
      "Target Train Data\n",
      "130000\n",
      "Source Validation Data\n",
      "10000\n",
      "Target Validation Data\n",
      "10000\n",
      "Source Test Data\n",
      "2567\n",
      "Target Test Data\n",
      "2567\n"
     ]
    }
   ],
   "source": [
    "print(\"Source Train Data\")\n",
    "content=open(\"src-train.txt\",'r')\n",
    "j=0\n",
    "for line in content:\n",
    "    j+=1\n",
    "print(j)\n",
    "content.close()\n",
    "print(\"Target Train Data\")\n",
    "content=open(\"tgt-train.txt\",'r')\n",
    "j=0\n",
    "for line in content:\n",
    "    j+=1\n",
    "print(j)\n",
    "content.close()\n",
    "print(\"Source Validation Data\")\n",
    "content=open(\"src-val.txt\",'r')\n",
    "j=0\n",
    "for line in content:\n",
    "    j+=1\n",
    "print(j)\n",
    "content.close()\n",
    "print(\"Target Validation Data\")\n",
    "content=open(\"tgt-val.txt\",'r')\n",
    "j=0\n",
    "for line in content:\n",
    "    j+=1\n",
    "print(j)\n",
    "content.close()\n",
    "print(\"Source Test Data\")\n",
    "content=open(\"src-test.txt\",'r')\n",
    "j=0\n",
    "for line in content:\n",
    "    j+=1\n",
    "print(j)\n",
    "content.close()\n",
    "print(\"Target Test Data\")\n",
    "content=open(\"tgt-test.txt\",'r')\n",
    "j=0\n",
    "for line in content:\n",
    "    j+=1\n",
    "print(j)\n",
    "content.close()"
   ]
  },
  {
   "cell_type": "code",
   "execution_count": null,
   "metadata": {},
   "outputs": [],
   "source": []
  }
 ],
 "metadata": {
  "kernelspec": {
   "display_name": "Python 3",
   "language": "python",
   "name": "python3"
  },
  "language_info": {
   "codemirror_mode": {
    "name": "ipython",
    "version": 3
   },
   "file_extension": ".py",
   "mimetype": "text/x-python",
   "name": "python",
   "nbconvert_exporter": "python",
   "pygments_lexer": "ipython3",
   "version": "3.6.5"
  }
 },
 "nbformat": 4,
 "nbformat_minor": 2
}
